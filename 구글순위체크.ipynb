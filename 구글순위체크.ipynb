{
 "cells": [
  {
   "cell_type": "code",
   "execution_count": 9,
   "metadata": {},
   "outputs": [],
   "source": [
    "from selenium import webdriver\n",
    "\n",
    "driver = webdriver.Chrome()\n",
    "\n",
    "keyword_input = input('키워드를 입력해 주세요')\n",
    "\n",
    "driver.get(f'https://www.google.com/search?q={keyword_input}')"
   ]
  },
  {
   "cell_type": "code",
   "execution_count": 22,
   "metadata": {},
   "outputs": [
    {
     "name": "stdout",
     "output_type": "stream",
     "text": [
      "@imsooohappy/167 : 2위\n",
      "https://www.safe182.go.kr : 6위\n"
     ]
    }
   ],
   "source": [
    "from selenium.webdriver.common.by import By\n",
    "from bs4 import BeautifulSoup\n",
    "\n",
    "# driver.find_element(By.CSS_SELECTOR, '#rso > div:nth-child(4) > div > div > div.kb0PBd.cvP2Ce.A9Y9g.jGGQ5e > div > div > span > a > h3').text\n",
    "\n",
    "html = driver.page_source\n",
    "soup = BeautifulSoup(html, 'html.parser')\n",
    "\n",
    "articles = soup.select('.g.Ww4FFb.vt6azd.tF2Cxc.asEBEc a')\n",
    "\n",
    "target_strings = [\n",
    "    '@imsooohappy/167',\n",
    "    'https://www.safe182.go.kr'\n",
    "]\n",
    "\n",
    "ranks = {}\n",
    "\n",
    "# index는 \"'article'에 번호를 지정합니다\"라는 뜻으로 이해하면 됨.\n",
    "for index, article in enumerate(articles, start=1):\n",
    "    link = article.attrs['href']\n",
    "    for target_string in target_strings:\n",
    "        if target_string in link:\n",
    "            # 딕셔너리에 값을 넣을 때는 대괄호 사용\n",
    "            ranks[target_string] = index\n",
    "\n",
    "# 딕셔너리에 있는 값을 반복문에서 하나씩 꺼내려면 .items()를 사용\n",
    "    #.items()를 반복문에서 사용하면, 딕셔너리에 있는 값을 '키·값'형태로 꺼낼 수 있다.\n",
    "# in 왼쪽 문자 의미\n",
    "    # \"'target_string'에 순위(rank)를 지정합니다\"라는 의미\n",
    "for target_string, rank in ranks.items():\n",
    "    print(f'{target_string} : {rank}위')"
   ]
  }
 ],
 "metadata": {
  "kernelspec": {
   "display_name": "Python 3",
   "language": "python",
   "name": "python3"
  },
  "language_info": {
   "codemirror_mode": {
    "name": "ipython",
    "version": 3
   },
   "file_extension": ".py",
   "mimetype": "text/x-python",
   "name": "python",
   "nbconvert_exporter": "python",
   "pygments_lexer": "ipython3",
   "version": "3.12.5"
  }
 },
 "nbformat": 4,
 "nbformat_minor": 2
}
